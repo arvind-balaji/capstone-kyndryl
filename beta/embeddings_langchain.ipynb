{
 "cells": [
  {
   "cell_type": "markdown",
   "metadata": {},
   "source": [
    "# Document Chat"
   ]
  },
  {
   "cell_type": "code",
   "execution_count": 1,
   "metadata": {},
   "outputs": [],
   "source": [
    "from langchain.document_loaders import TextLoader, DirectoryLoader, UnstructuredMarkdownLoader\n",
    "loader = TextLoader(\"./resources/commit.txt\")\n",
    "docs = loader.load()"
   ]
  },
  {
   "cell_type": "code",
   "execution_count": 2,
   "metadata": {},
   "outputs": [
    {
     "name": "stderr",
     "output_type": "stream",
     "text": [
      "Created a chunk of size 238, which is longer than the specified 100\n",
      "Created a chunk of size 156, which is longer than the specified 100\n",
      "Created a chunk of size 145, which is longer than the specified 100\n",
      "Created a chunk of size 102, which is longer than the specified 100\n",
      "Created a chunk of size 112, which is longer than the specified 100\n",
      "Created a chunk of size 105, which is longer than the specified 100\n",
      "Created a chunk of size 104, which is longer than the specified 100\n"
     ]
    }
   ],
   "source": [
    "from langchain.text_splitter import CharacterTextSplitter\n",
    "\n",
    "text_splitter = CharacterTextSplitter.from_tiktoken_encoder(\n",
    "    chunk_size=100, chunk_overlap=0\n",
    ")\n",
    "texts = text_splitter.split_documents(docs)"
   ]
  },
  {
   "cell_type": "code",
   "execution_count": 3,
   "metadata": {},
   "outputs": [
    {
     "data": {
      "text/plain": [
       "[Document(page_content='Introduction: Why good commit messages matter\\nIf you browse the log of any random Git repository, you will probably find its commit messages are more or less a mess. For example, take a look at these gems from my early days committing to Spring:\\n\\n$ git log --oneline -5 --author cbeams --before \"Fri Mar 26 2009\"', metadata={'source': './resources/commit.txt'}),\n",
       " Document(page_content='e5f4b49 Re-adding ConfigurationPostProcessorTests after its brief removal in r814. @Ignore-ing the testCglibClassesAreLoadedJustInTimeForEnhancement() method as it turns out this was one of the culprits in the recent build breakage. The classloader hacking causes subtle downstream effects, breaking unrelated tests. The test method is still useful, but should only be run on a manual basis to ensure CGLIB is not prematurely classloaded, and should not be run as part of the automated build.\\n2db0f12 fixed two build-breaking issues: + reverted ClassMetadataReadingVisitor to revision 794 + eliminated ConfigurationPostProcessorTests until further investigation determines why it causes downstream tests to fail (such as the seemingly unrelated ClassPathXmlApplicationContextTests)\\n147709f Tweaks to package-info.java files\\n22b25e0 Consolidated Util and MutableAnnotationUtils classes into existing AsmUtils\\n7f96f57 polishing\\nYikes. Compare that with these more recent commits from the same repository:', metadata={'source': './resources/commit.txt'}),\n",
       " Document(page_content='$ git log --oneline -5 --author pwebb --before \"Sat Aug 30 2014\"\\n\\n5ba3db6 Fix failing CompositePropertySourceTests\\n84564a0 Rework @PropertySource early parsing logic\\ne142fd1 Add tests for ImportSelector meta-data\\n887815f Update docbook dependency and generate epub\\nac8326d Polish mockito usage\\nWhich would you rather read?', metadata={'source': './resources/commit.txt'}),\n",
       " Document(page_content='The former varies in length and form; the latter is concise and consistent.\\nThe former is what happens by default; the latter never happens by accident.\\n\\nWhile many repositories’ logs look like the former, there are exceptions. The Linux kernel and Git itself are great examples. Look at Spring Boot, or any repository managed by Tim Pope.', metadata={'source': './resources/commit.txt'}),\n",
       " Document(page_content='The contributors to these repositories know that a well-crafted Git commit message is the best way to communicate context about a change to fellow developers (and indeed to their future selves). A diff will tell you what changed, but only the commit message can properly tell you why. Peter Hutterer makes this point well:', metadata={'source': './resources/commit.txt'}),\n",
       " Document(page_content='Re-establishing the context of a piece of code is wasteful. We can’t avoid it completely, so our efforts should go to reducing it [as much] as possible. Commit messages can do exactly that and as a result, a commit message shows whether a developer is a good collaborator.\\nIf you haven’t given much thought to what makes a great Git commit message, it may be the case that you haven’t spent much time using git log and related tools. There is a vicious cycle here: because the commit history is unstructured and inconsistent, one doesn’t spend much time using or taking care of it. And because it doesn’t get used or taken care of, it remains unstructured and inconsistent.', metadata={'source': './resources/commit.txt'}),\n",
       " Document(page_content='But a well-cared for log is a beautiful and useful thing. git blame, revert, rebase, log, shortlog and other subcommands come to life. Reviewing others’ commits and pull requests becomes something worth doing, and suddenly can be done independently. Understanding why something happened months or years ago becomes not only possible but efficient.', metadata={'source': './resources/commit.txt'}),\n",
       " Document(page_content='A project’s long-term success rests (among other things) on its maintainability, and a maintainer has few tools more powerful than his project’s log. It’s worth taking the time to learn how to care for one properly. What may be a hassle at first soon becomes habit, and eventually a source of pride and productivity for all involved.', metadata={'source': './resources/commit.txt'}),\n",
       " Document(page_content='In this post, I am addressing just the most basic element of keeping a healthy commit history: how to write an individual commit message. There are other important practices like commit squashing that I am not addressing here. Perhaps I’ll do that in a subsequent post.', metadata={'source': './resources/commit.txt'}),\n",
       " Document(page_content='Most programming languages have well-established conventions as to what constitutes idiomatic style, i.e. naming, formatting and so on. There are variations on these conventions, of course, but most developers agree that picking one and sticking to it is far better than the chaos that ensues when everybody does their own thing.', metadata={'source': './resources/commit.txt'}),\n",
       " Document(page_content='A team’s approach to its commit log should be no different. In order to create a useful revision history, teams should first agree on a commit message convention that defines at least the following three things:', metadata={'source': './resources/commit.txt'}),\n",
       " Document(page_content='Style. Markup syntax, wrap margins, grammar, capitalization, punctuation. Spell these things out, remove the guesswork, and make it all as simple as possible. The end result will be a remarkably consistent log that’s not only a pleasure to read but that actually does get read on a regular basis.\\n\\nContent. What kind of information should the body of the commit message (if any) contain? What should it not contain?', metadata={'source': './resources/commit.txt'}),\n",
       " Document(page_content='Metadata. How should issue tracking IDs, pull request numbers, etc. be referenced?\\n\\nFortunately, there are well-established conventions as to what makes an idiomatic Git commit message. Indeed, many of them are assumed in the way certain Git commands function. There’s nothing you need to re-invent. Just follow the seven rules below and you’re on your way to committing like a pro.', metadata={'source': './resources/commit.txt'}),\n",
       " Document(page_content='The seven rules of a great Git commit message\\nKeep in mind: This has all been said before.\\nSeparate subject from body with a blank line\\nLimit the subject line to 50 characters\\nCapitalize the subject line\\nDo not end the subject line with a period\\nUse the imperative mood in the subject line\\nWrap the body at 72 characters\\nUse the body to explain what and why vs. how\\nFor example:\\n\\nSummarize changes in around 50 characters or less', metadata={'source': './resources/commit.txt'}),\n",
       " Document(page_content='More detailed explanatory text, if necessary. Wrap it to about 72\\ncharacters or so. In some contexts, the first line is treated as the\\nsubject of the commit and the rest of the text as the body. The\\nblank line separating the summary from the body is critical (unless\\nyou omit the body entirely); various tools like `log`, `shortlog`\\nand `rebase` can get confused if you run the two together.', metadata={'source': './resources/commit.txt'}),\n",
       " Document(page_content=\"Explain the problem that this commit is solving. Focus on why you\\nare making this change as opposed to how (the code explains that).\\nAre there side effects or other unintuitive consequences of this\\nchange? Here's the place to explain them.\\n\\nFurther paragraphs come after blank lines.\\n\\n - Bullet points are okay, too\", metadata={'source': './resources/commit.txt'}),\n",
       " Document(page_content='- Typically a hyphen or asterisk is used for the bullet, preceded\\n   by a single space, with blank lines in between, but conventions\\n   vary here\\n\\nIf you use an issue tracker, put references to them at the bottom,\\nlike this:\\n\\nResolves: #123\\nSee also: #456, #789\\n1. Separate subject from body with a blank line\\nFrom the git commit manpage:', metadata={'source': './resources/commit.txt'}),\n",
       " Document(page_content='Though not required, it’s a good idea to begin the commit message with a single short (less than 50 character) line summarizing the change, followed by a blank line and then a more thorough description. The text up to the first blank line in a commit message is treated as the commit title, and that title is used throughout Git. For example, Git-format-patch(1) turns a commit into email, and it uses the title on the Subject line and the rest of the commit in the body.\\nFirstly, not every commit requires both a subject and a body. Sometimes a single line is fine, especially when the change is so simple that no further context is necessary. For example:', metadata={'source': './resources/commit.txt'}),\n",
       " Document(page_content='Fix typo in introduction to user guide\\nNothing more need be said; if the reader wonders what the typo was, she can simply take a look at the change itself, i.e. use git show or git diff or git log -p.\\n\\nIf you’re committing something like this at the command line, it’s easy to use the -m option to git commit:', metadata={'source': './resources/commit.txt'}),\n",
       " Document(page_content='$ git commit -m\"Fix typo in introduction to user guide\"\\nHowever, when a commit merits a bit of explanation and context, you need to write a body. For example:\\n\\nDerezz the master control program', metadata={'source': './resources/commit.txt'}),\n",
       " Document(page_content=\"MCP turned out to be evil and had become intent on world domination.\\nThis commit throws Tron's disc into MCP (causing its deresolution)\\nand turns it back into a chess game.\\nCommit messages with bodies are not so easy to write with the -m option. You’re better off writing the message in a proper text editor. If you do not already have an editor set up for use with Git at the command line, read this section of Pro Git.\", metadata={'source': './resources/commit.txt'}),\n",
       " Document(page_content='In any case, the separation of subject from body pays off when browsing the log. Here’s the full log entry:\\n\\n$ git log\\ncommit 42e769bdf4894310333942ffc5a15151222a87be\\nAuthor: Kevin Flynn <kevin@flynnsarcade.com>\\nDate:   Fri Jan 01 00:00:00 1982 -0200\\n\\n Derezz the master control program', metadata={'source': './resources/commit.txt'}),\n",
       " Document(page_content=\"MCP turned out to be evil and had become intent on world domination.\\n This commit throws Tron's disc into MCP (causing its deresolution)\\n and turns it back into a chess game.\\nAnd now git log --oneline, which prints out just the subject line:\", metadata={'source': './resources/commit.txt'}),\n",
       " Document(page_content='$ git log --oneline\\n42e769 Derezz the master control program\\nOr, git shortlog, which groups commits by user, again showing just the subject line for concision:\\n\\n$ git shortlog\\nKevin Flynn (1):\\n      Derezz the master control program\\n\\nAlan Bradley (1):\\n      Introduce security program \"Tron\"', metadata={'source': './resources/commit.txt'}),\n",
       " Document(page_content='Ed Dillinger (3):\\n      Rename chess program to \"MCP\"\\n      Modify chess program\\n      Upgrade chess program\\n\\nWalter Gibbs (1):\\n      Introduce protoype chess program\\nThere are a number of other contexts in Git where the distinction between subject line and body kicks in—but none of them work properly without the blank line in between.', metadata={'source': './resources/commit.txt'}),\n",
       " Document(page_content='2. Limit the subject line to 50 characters\\n50 characters is not a hard limit, just a rule of thumb. Keeping subject lines at this length ensures that they are readable, and forces the author to think for a moment about the most concise way to explain what’s going on.', metadata={'source': './resources/commit.txt'}),\n",
       " Document(page_content='Tip: If you’re having a hard time summarizing, you might be committing too many changes at once. Strive for atomic commits (a topic for a separate post).\\nGitHub’s UI is fully aware of these conventions. It will warn you if you go past the 50 character limit:\\n\\ngh1\\nAnd will truncate any subject line longer than 72 characters with an ellipsis:', metadata={'source': './resources/commit.txt'}),\n",
       " Document(page_content='gh2\\nSo shoot for 50 characters, but consider 72 the hard limit.\\n\\n3. Capitalize the subject line\\nThis is as simple as it sounds. Begin all subject lines with a capital letter.\\n\\nFor example:\\n\\nAccelerate to 88 miles per hour\\nInstead of:', metadata={'source': './resources/commit.txt'}),\n",
       " Document(page_content='accelerate to 88 miles per hour\\n4. Do not end the subject line with a period\\nTrailing punctuation is unnecessary in subject lines. Besides, space is precious when you’re trying to keep them to 50 chars or less.\\n\\nExample:\\n\\nOpen the pod bay doors\\nInstead of:', metadata={'source': './resources/commit.txt'}),\n",
       " Document(page_content='Open the pod bay doors.\\n5. Use the imperative mood in the subject line\\nImperative mood just means “spoken or written as if giving a command or instruction”. A few examples:\\n\\nClean your room\\nClose the door\\nTake out the trash\\nEach of the seven rules you’re reading about right now are written in the imperative (“Wrap the body at 72 characters”, etc.).', metadata={'source': './resources/commit.txt'}),\n",
       " Document(page_content='The imperative can sound a little rude; that’s why we don’t often use it. But it’s perfect for Git commit subject lines. One reason for this is that Git itself uses the imperative whenever it creates a commit on your behalf.\\n\\nFor example, the default message created when using git merge reads:\\n\\nMerge branch \\'myfeature\\'\\nAnd when using git revert:\\n\\nRevert \"Add the thing with the stuff\"', metadata={'source': './resources/commit.txt'}),\n",
       " Document(page_content='This reverts commit cc87791524aedd593cff5a74532befe7ab69ce9d.\\nOr when clicking the “Merge” button on a GitHub pull request:\\n\\nMerge pull request #123 from someuser/somebranch\\nSo when you write your commit messages in the imperative, you’re following Git’s own built-in conventions. For example:', metadata={'source': './resources/commit.txt'}),\n",
       " Document(page_content='Refactor subsystem X for readability\\nUpdate getting started documentation\\nRemove deprecated methods\\nRelease version 1.0.0\\nWriting this way can be a little awkward at first. We’re more used to speaking in the indicative mood, which is all about reporting facts. That’s why commit messages often end up reading like this:\\n\\nFixed bug with Y\\nChanging behavior of X\\nAnd sometimes commit messages get written as a description of their contents:', metadata={'source': './resources/commit.txt'}),\n",
       " Document(page_content='More fixes for broken stuff\\nSweet new API methods\\nTo remove any confusion, here’s a simple rule to get it right every time.\\n\\nA properly formed Git commit subject line should always be able to complete the following sentence:\\n\\nIf applied, this commit will your subject line here\\nFor example:', metadata={'source': './resources/commit.txt'}),\n",
       " Document(page_content='If applied, this commit will refactor subsystem X for readability\\nIf applied, this commit will update getting started documentation\\nIf applied, this commit will remove deprecated methods\\nIf applied, this commit will release version 1.0.0\\nIf applied, this commit will merge pull request #123 from user/branch\\nNotice how this doesn’t work for the other non-imperative forms:', metadata={'source': './resources/commit.txt'}),\n",
       " Document(page_content='If applied, this commit will fixed bug with Y\\nIf applied, this commit will changing behavior of X\\nIf applied, this commit will more fixes for broken stuff\\nIf applied, this commit will sweet new API methods\\nRemember: Use of the imperative is important only in the subject line. You can relax this restriction when you’re writing the body.\\n6. Wrap the body at 72 characters\\nGit never wraps text automatically. When you write the body of a commit message, you must mind its right margin, and wrap text manually.', metadata={'source': './resources/commit.txt'}),\n",
       " Document(page_content='The recommendation is to do this at 72 characters, so that Git has plenty of room to indent text while still keeping everything under 80 characters overall.', metadata={'source': './resources/commit.txt'}),\n",
       " Document(page_content='A good text editor can help here. It’s easy to configure Vim, for example, to wrap text at 72 characters when you’re writing a Git commit. Traditionally, however, IDEs have been terrible at providing smart support for text wrapping in commit messages (although in recent versions, IntelliJ IDEA has finally gotten better about this).', metadata={'source': './resources/commit.txt'}),\n",
       " Document(page_content='7. Use the body to explain what and why vs. how\\nThis commit from Bitcoin Core is a great example of explaining what changed and why:\\n\\ncommit eb0b56b19017ab5c16c745e6da39c53126924ed6\\nAuthor: Pieter Wuille <pieter.wuille@gmail.com>\\nDate:   Fri Aug 1 22:57:55 2014 +0200', metadata={'source': './resources/commit.txt'}),\n",
       " Document(page_content=\"Simplify serialize.h's exception handling\\n\\n   Remove the 'state' and 'exceptmask' from serialize.h's stream\\n   implementations, as well as related methods.\", metadata={'source': './resources/commit.txt'}),\n",
       " Document(page_content=\"As exceptmask always included 'failbit', and setstate was always\\n   called with bits = failbit, all it did was immediately raise an\\n   exception. Get rid of those variables, and replace the setstate\\n   with direct exception throwing (which also removes some dead\\n   code).\", metadata={'source': './resources/commit.txt'}),\n",
       " Document(page_content='As a result, good() is never reached after a failure (there are\\n   only 2 calls, one of which is in tests), and can just be replaced\\n   by !eof().', metadata={'source': './resources/commit.txt'}),\n",
       " Document(page_content='fail(), clear(n) and exceptions() are just never called. Delete\\n   them.\\nTake a look at the full diff and just think how much time the author is saving fellow and future committers by taking the time to provide this context here and now. If he didn’t, it would probably be lost forever.', metadata={'source': './resources/commit.txt'}),\n",
       " Document(page_content='In most cases, you can leave out details about how a change has been made. Code is generally self-explanatory in this regard (and if the code is so complex that it needs to be explained in prose, that’s what source comments are for). Just focus on making clear the reasons why you made the change in the first place—the way things worked before the change (and what was wrong with that), the way they work now, and why you decided to solve it the way you did.', metadata={'source': './resources/commit.txt'}),\n",
       " Document(page_content='The future maintainer that thanks you may be yourself!', metadata={'source': './resources/commit.txt'}),\n",
       " Document(page_content='Tips\\nLearn to love the command line. Leave the IDE behind.\\nFor as many reasons as there are Git subcommands, it’s wise to embrace the command line. Git is insanely powerful; IDEs are too, but each in different ways. I use an IDE every day (IntelliJ IDEA) and have used others extensively (Eclipse), but I have never seen IDE integration for Git that could begin to match the ease and power of the command line (once you know it).', metadata={'source': './resources/commit.txt'}),\n",
       " Document(page_content='Certain Git-related IDE functions are invaluable, like calling git rm when you delete a file, and doing the right stuff with git when you rename one. Where everything falls apart is when you start trying to commit, merge, rebase, or do sophisticated history analysis through the IDE.\\n\\nWhen it comes to wielding the full power of Git, it’s command-line all the way.', metadata={'source': './resources/commit.txt'}),\n",
       " Document(page_content='Remember that whether you use Bash or Zsh or Powershell, there are tab completion scripts that take much of the pain out of remembering the subcommands and switches.', metadata={'source': './resources/commit.txt'})]"
      ]
     },
     "execution_count": 3,
     "metadata": {},
     "output_type": "execute_result"
    }
   ],
   "source": [
    "texts"
   ]
  },
  {
   "cell_type": "code",
   "execution_count": 4,
   "metadata": {},
   "outputs": [
    {
     "name": "stderr",
     "output_type": "stream",
     "text": [
      "/Users/arvindb/Documents/Undergrad/CSCE-482/chatbot/venv/lib/python3.11/site-packages/tqdm/auto.py:21: TqdmWarning: IProgress not found. Please update jupyter and ipywidgets. See https://ipywidgets.readthedocs.io/en/stable/user_install.html\n",
      "  from .autonotebook import tqdm as notebook_tqdm\n"
     ]
    }
   ],
   "source": [
    "from langchain.embeddings import SentenceTransformerEmbeddings\n",
    "\n",
    "embedding = SentenceTransformerEmbeddings(\n",
    "    model_name=\"multi-qa-mpnet-base-dot-v1\",\n",
    ")"
   ]
  },
  {
   "cell_type": "code",
   "execution_count": 5,
   "metadata": {},
   "outputs": [],
   "source": [
    "from langchain.vectorstores import Chroma\n",
    "\n",
    "vectorstore = Chroma.from_documents(documents=texts, embedding=embedding)"
   ]
  },
  {
   "cell_type": "code",
   "execution_count": 10,
   "metadata": {},
   "outputs": [],
   "source": [
    "my_prompt = \"Best practices?\""
   ]
  },
  {
   "cell_type": "code",
   "execution_count": 11,
   "metadata": {},
   "outputs": [
    {
     "data": {
      "text/plain": [
       "[Document(page_content='In this post, I am addressing just the most basic element of keeping a healthy commit history: how to write an individual commit message. There are other important practices like commit squashing that I am not addressing here. Perhaps I’ll do that in a subsequent post.', metadata={'source': './resources/commit.txt'}),\n",
       " Document(page_content='Tips\\nLearn to love the command line. Leave the IDE behind.\\nFor as many reasons as there are Git subcommands, it’s wise to embrace the command line. Git is insanely powerful; IDEs are too, but each in different ways. I use an IDE every day (IntelliJ IDEA) and have used others extensively (Eclipse), but I have never seen IDE integration for Git that could begin to match the ease and power of the command line (once you know it).', metadata={'source': './resources/commit.txt'}),\n",
       " Document(page_content='7. Use the body to explain what and why vs. how\\nThis commit from Bitcoin Core is a great example of explaining what changed and why:\\n\\ncommit eb0b56b19017ab5c16c745e6da39c53126924ed6\\nAuthor: Pieter Wuille <pieter.wuille@gmail.com>\\nDate:   Fri Aug 1 22:57:55 2014 +0200', metadata={'source': './resources/commit.txt'}),\n",
       " Document(page_content='Metadata. How should issue tracking IDs, pull request numbers, etc. be referenced?\\n\\nFortunately, there are well-established conventions as to what makes an idiomatic Git commit message. Indeed, many of them are assumed in the way certain Git commands function. There’s nothing you need to re-invent. Just follow the seven rules below and you’re on your way to committing like a pro.', metadata={'source': './resources/commit.txt'}),\n",
       " Document(page_content='A team’s approach to its commit log should be no different. In order to create a useful revision history, teams should first agree on a commit message convention that defines at least the following three things:', metadata={'source': './resources/commit.txt'})]"
      ]
     },
     "execution_count": 11,
     "metadata": {},
     "output_type": "execute_result"
    }
   ],
   "source": [
    "vectorstore.similarity_search(my_prompt, 5)"
   ]
  },
  {
   "cell_type": "code",
   "execution_count": 12,
   "metadata": {},
   "outputs": [
    {
     "data": {
      "text/plain": [
       "{'query': 'Best practices?',\n",
       " 'result': 'Here are some best practices for writing commit messages:\\n\\n1. Keep it concise: Try to keep your commit messages short and to the point. A good rule of thumb is to aim for around 50 characters or less for the subject line.\\n\\n2. Use the imperative mood: Start the subject line with a verb in the imperative mood, such as \"Fix\", \"Add\", \"Update\", etc. This helps to clearly communicate what the commit does.\\n\\n3. Separate subject and body: If your commit message requires more explanation, use the body section to provide additional details. This can include why the change was made, any relevant context, or any potential side effects.\\n\\n4. Use proper grammar and punctuation: While commit messages don\\'t need to be perfect prose, it\\'s still important to use proper grammar and punctuation. This helps to maintain readability and professionalism.\\n\\n5. Reference relevant issues or tickets: If your commit is related to a specific issue or ticket, include a reference to it in the commit message. This can help with tracking and organization.\\n\\n6. Avoid unnecessary details: Focus on the most important information in your commit message. Avoid including irrelevant details or technical implementation specifics.\\n\\n7. Review and revise: Before finalizing your commit message, take a moment to review and revise it. Make sure it accurately reflects the changes made and follows the best practices mentioned above.\\n\\nRemember, these are just general guidelines and can vary depending on the specific project or team. It\\'s always a good idea to check if there are any specific commit message conventions or guidelines in place for the project you\\'re working on.'}"
      ]
     },
     "execution_count": 12,
     "metadata": {},
     "output_type": "execute_result"
    }
   ],
   "source": [
    "from langchain.chains import RetrievalQA\n",
    "from langchain.chat_models import ChatOpenAI\n",
    "\n",
    "llm = ChatOpenAI(model_name=\"gpt-3.5-turbo\", temperature=0, openai_api_key=\"key\")\n",
    "qa_chain = RetrievalQA.from_chain_type(llm, retriever=vectorstore.as_retriever())\n",
    "qa_chain({\"query\": my_prompt})"
   ]
  }
 ],
 "metadata": {
  "kernelspec": {
   "display_name": "venv",
   "language": "python",
   "name": "python3"
  },
  "language_info": {
   "codemirror_mode": {
    "name": "ipython",
    "version": 3
   },
   "file_extension": ".py",
   "mimetype": "text/x-python",
   "name": "python",
   "nbconvert_exporter": "python",
   "pygments_lexer": "ipython3",
   "version": "3.11.4"
  },
  "orig_nbformat": 4
 },
 "nbformat": 4,
 "nbformat_minor": 2
}
